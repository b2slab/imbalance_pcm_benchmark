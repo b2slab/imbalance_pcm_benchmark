{
 "cells": [
  {
   "cell_type": "code",
   "execution_count": 133,
   "metadata": {},
   "outputs": [],
   "source": [
    "from __future__ import division, absolute_import\n",
    "\n",
    "import sys\n",
    "import os\n",
    "import numpy as np\n",
    "import random\n",
    "import pickle\n",
    "from plotnine import *\n",
    "import math\n",
    "\n",
    "import pandas as pd\n",
    "\n",
    "#root\n",
    "absPath = '/home/angela3/imbalance_pcm_benchmark/'\n",
    "sys.path.insert(0, absPath)\n",
    "\n",
    "from src.imbalance_functions import * \n",
    "\n",
    "np.random.seed(8)\n",
    "random.seed(8)"
   ]
  },
  {
   "cell_type": "code",
   "execution_count": 81,
   "metadata": {},
   "outputs": [],
   "source": [
    "#LOADING DATA \n",
    "activity_filename = \"/home/angela3/hybrid_model/data/smiles_prots_activity.csv\"\n",
    "activity_df = pd.read_csv(activity_filename, sep=\"\\t\", header=0).drop(\"Unnamed: 0\", axis=1)"
   ]
  },
  {
   "cell_type": "code",
   "execution_count": 82,
   "metadata": {},
   "outputs": [
    {
     "name": "stdout",
     "output_type": "stream",
     "text": [
      "<class 'pandas.core.frame.DataFrame'>\n",
      "RangeIndex: 829033 entries, 0 to 829032\n",
      "Data columns (total 9 columns):\n",
      " #   Column                    Non-Null Count   Dtype  \n",
      "---  ------                    --------------   -----  \n",
      " 0   DeepAffinity Protein ID   829033 non-null  object \n",
      " 1   Uniprot ID                767999 non-null  object \n",
      " 2   DeepAffinity Compound ID  829033 non-null  object \n",
      " 3   CID                       829033 non-null  int64  \n",
      " 4   activity                  829033 non-null  float64\n",
      " 5   label                     829033 non-null  float64\n",
      " 6   Canonical SMILE           829033 non-null  object \n",
      " 7   Sequence                  829033 non-null  object \n",
      " 8   family                    829033 non-null  object \n",
      "dtypes: float64(2), int64(1), object(6)\n",
      "memory usage: 56.9+ MB\n"
     ]
    }
   ],
   "source": [
    "activity_df.info()"
   ]
  },
  {
   "cell_type": "code",
   "execution_count": 83,
   "metadata": {},
   "outputs": [
    {
     "data": {
      "text/plain": [
       "family\n",
       "CY                51\n",
       "GPCR             498\n",
       "IC               191\n",
       "NR                82\n",
       "Non assigned    3656\n",
       "OE               361\n",
       "PK               490\n",
       "PR               319\n",
       "TR               183\n",
       "Name: DeepAffinity Protein ID, dtype: int64"
      ]
     },
     "execution_count": 83,
     "metadata": {},
     "output_type": "execute_result"
    }
   ],
   "source": [
    "activity_df.groupby(\"family\")[\"DeepAffinity Protein ID\"].nunique()"
   ]
  },
  {
   "cell_type": "code",
   "execution_count": 84,
   "metadata": {},
   "outputs": [],
   "source": [
    "family_names = activity_df[\"family\"].unique().tolist()"
   ]
  },
  {
   "cell_type": "code",
   "execution_count": 85,
   "metadata": {},
   "outputs": [
    {
     "name": "stdout",
     "output_type": "stream",
     "text": [
      "Protein family:  PK\n",
      "There are 490 different proteins\n",
      "Protein family:  GPCR\n",
      "There are 498 different proteins\n",
      "Protein family:  NR\n",
      "There are 82 different proteins\n",
      "Protein family:  Non assigned\n",
      "There are 3656 different proteins\n",
      "Protein family:  OE\n",
      "There are 361 different proteins\n",
      "Protein family:  IC\n",
      "There are 191 different proteins\n",
      "Protein family:  TR\n",
      "There are 183 different proteins\n",
      "Protein family:  CY\n",
      "There are 51 different proteins\n",
      "Protein family:  PR\n",
      "There are 319 different proteins\n"
     ]
    }
   ],
   "source": [
    "figures = {}\n",
    "for family in family_names:\n",
    "    print(\"Protein family: \", family)\n",
    "    activity_fam = activity_df[activity_df.family == family]\n",
    "    unique_prots = activity_fam[\"DeepAffinity Protein ID\"].drop_duplicates().tolist()\n",
    "    print(\"There are\",len(unique_prots),\"different proteins\")\n",
    "    list_ratios = []\n",
    "    for prot in unique_prots:\n",
    "        ratio_actives_inactives = computing_active_inactive_ratio(activity_fam, prot)\n",
    "        dicti = {\"DeepAffinity Protein ID\" : prot, \"ratio_actives_inactives\": ratio_actives_inactives}\n",
    "        list_ratios.append(dicti)\n",
    "    df_ratios = pd.DataFrame(list_ratios)\n",
    "    p = (ggplot(df_ratios, aes(\"ratio_actives_inactives\")) + geom_histogram() \n",
    "         + xlab(\"Proportion of actives respect to all the interactions per protein\") + ggtitle(family))    \n",
    "    figures[family] = p"
   ]
  },
  {
   "cell_type": "code",
   "execution_count": 96,
   "metadata": {},
   "outputs": [
    {
     "name": "stdout",
     "output_type": "stream",
     "text": [
      "Family: PK\n"
     ]
    },
    {
     "name": "stderr",
     "output_type": "stream",
     "text": [
      "/home/angela3/venv/lib/python3.6/site-packages/plotnine/ggplot.py:729: PlotnineWarning: Saving 6.4 x 4.8 in image.\n",
      "  from_inches(height, units), units), PlotnineWarning)\n",
      "/home/angela3/venv/lib/python3.6/site-packages/plotnine/ggplot.py:730: PlotnineWarning: Filename: /home/angela3/imbalance_pcm_benchmark/data/kinases/histogram_ratio_kinases.pdf\n",
      "  warn('Filename: {}'.format(filename), PlotnineWarning)\n",
      "/home/angela3/venv/lib/python3.6/site-packages/plotnine/stats/stat_bin.py:93: PlotnineWarning: 'stat_bin()' using 'bins = 13'. Pick better value with 'binwidth'.\n",
      "  warn(msg.format(params['bins']), PlotnineWarning)\n"
     ]
    }
   ],
   "source": [
    "print(\"Family: PK\")\n",
    "figures[\"PK\"]\n",
    "ggsave(plot=figures[\"PK\"], \n",
    "       filename=\"\".join((absPath, \"data/kinases/histogram_ratio_kinases.pdf\")), device = \"pdf\")"
   ]
  },
  {
   "cell_type": "code",
   "execution_count": 97,
   "metadata": {},
   "outputs": [
    {
     "name": "stdout",
     "output_type": "stream",
     "text": [
      "Family: GPCR\n"
     ]
    },
    {
     "name": "stderr",
     "output_type": "stream",
     "text": [
      "/home/angela3/venv/lib/python3.6/site-packages/plotnine/ggplot.py:729: PlotnineWarning: Saving 6.4 x 4.8 in image.\n",
      "  from_inches(height, units), units), PlotnineWarning)\n",
      "/home/angela3/venv/lib/python3.6/site-packages/plotnine/ggplot.py:730: PlotnineWarning: Filename: /home/angela3/imbalance_pcm_benchmark/data/GPCRs/histogram_ratio_gpcrs.pdf\n",
      "  warn('Filename: {}'.format(filename), PlotnineWarning)\n",
      "/home/angela3/venv/lib/python3.6/site-packages/plotnine/stats/stat_bin.py:93: PlotnineWarning: 'stat_bin()' using 'bins = 12'. Pick better value with 'binwidth'.\n",
      "  warn(msg.format(params['bins']), PlotnineWarning)\n"
     ]
    }
   ],
   "source": [
    "print(\"Family: GPCR\")\n",
    "figures[\"GPCR\"]\n",
    "ggsave(plot=figures[\"GPCR\"], \n",
    "       filename=\"\".join((absPath, \"data/GPCRs/histogram_ratio_gpcrs.pdf\")), device = \"pdf\")"
   ]
  },
  {
   "cell_type": "code",
   "execution_count": 88,
   "metadata": {},
   "outputs": [
    {
     "name": "stdout",
     "output_type": "stream",
     "text": [
      "Family: NR\n"
     ]
    },
    {
     "name": "stderr",
     "output_type": "stream",
     "text": [
      "/home/angela3/venv/lib/python3.6/site-packages/plotnine/stats/stat_bin.py:93: PlotnineWarning: 'stat_bin()' using 'bins = 8'. Pick better value with 'binwidth'.\n",
      "  warn(msg.format(params['bins']), PlotnineWarning)\n"
     ]
    },
    {
     "data": {
      "image/png": "[encoded data removed]",
      "text/plain": [
       "<Figure size 640x480 with 1 Axes>"
      ]
     },
     "metadata": {},
     "output_type": "display_data"
    },
    {
     "data": {
      "text/plain": [
       "<ggplot: (-9223363258716668861)>"
      ]
     },
     "execution_count": 88,
     "metadata": {},
     "output_type": "execute_result"
    }
   ],
   "source": [
    "print(\"Family: NR\")\n",
    "figures[\"NR\"]"
   ]
  },
  {
   "cell_type": "code",
   "execution_count": 89,
   "metadata": {},
   "outputs": [
    {
     "name": "stdout",
     "output_type": "stream",
     "text": [
      "Family: Non assigned\n"
     ]
    },
    {
     "name": "stderr",
     "output_type": "stream",
     "text": [
      "/home/angela3/venv/lib/python3.6/site-packages/plotnine/stats/stat_bin.py:93: PlotnineWarning: 'stat_bin()' using 'bins = 9'. Pick better value with 'binwidth'.\n",
      "  warn(msg.format(params['bins']), PlotnineWarning)\n"
     ]
    },
    {
     "data": {
      "image/png": "[encoded data removed]",
      "text/plain": [
       "<Figure size 640x480 with 1 Axes>"
      ]
     },
     "metadata": {},
     "output_type": "display_data"
    },
    {
     "data": {
      "text/plain": [
       "<ggplot: (8778138106895)>"
      ]
     },
     "execution_count": 89,
     "metadata": {},
     "output_type": "execute_result"
    }
   ],
   "source": [
    "print(\"Family: Non assigned\")\n",
    "figures[\"Non assigned\"]"
   ]
  },
  {
   "cell_type": "code",
   "execution_count": 90,
   "metadata": {},
   "outputs": [
    {
     "name": "stdout",
     "output_type": "stream",
     "text": [
      "Family: OE\n"
     ]
    },
    {
     "name": "stderr",
     "output_type": "stream",
     "text": [
      "/home/angela3/venv/lib/python3.6/site-packages/plotnine/stats/stat_bin.py:93: PlotnineWarning: 'stat_bin()' using 'bins = 6'. Pick better value with 'binwidth'.\n",
      "  warn(msg.format(params['bins']), PlotnineWarning)\n"
     ]
    },
    {
     "data": {
      "image/png": "[encoded data removed]",
      "text/plain": [
       "<Figure size 640x480 with 1 Axes>"
      ]
     },
     "metadata": {},
     "output_type": "display_data"
    },
    {
     "data": {
      "text/plain": [
       "<ggplot: (8778148684187)>"
      ]
     },
     "execution_count": 90,
     "metadata": {},
     "output_type": "execute_result"
    }
   ],
   "source": [
    "print(\"Family: OE\")\n",
    "figures[\"OE\"]"
   ]
  },
  {
   "cell_type": "code",
   "execution_count": 91,
   "metadata": {},
   "outputs": [
    {
     "name": "stdout",
     "output_type": "stream",
     "text": [
      "Family: IC\n"
     ]
    },
    {
     "name": "stderr",
     "output_type": "stream",
     "text": [
      "/home/angela3/venv/lib/python3.6/site-packages/plotnine/stats/stat_bin.py:93: PlotnineWarning: 'stat_bin()' using 'bins = 5'. Pick better value with 'binwidth'.\n",
      "  warn(msg.format(params['bins']), PlotnineWarning)\n"
     ]
    },
    {
     "data": {
      "image/png": "[encoded data removed]",
      "text/plain": [
       "<Figure size 640x480 with 1 Axes>"
      ]
     },
     "metadata": {},
     "output_type": "display_data"
    },
    {
     "data": {
      "text/plain": [
       "<ggplot: (8778148684278)>"
      ]
     },
     "execution_count": 91,
     "metadata": {},
     "output_type": "execute_result"
    }
   ],
   "source": [
    "print(\"Family: IC\")\n",
    "figures[\"IC\"]"
   ]
  },
  {
   "cell_type": "code",
   "execution_count": 92,
   "metadata": {},
   "outputs": [
    {
     "name": "stdout",
     "output_type": "stream",
     "text": [
      "Family: TR\n"
     ]
    },
    {
     "name": "stderr",
     "output_type": "stream",
     "text": [
      "/home/angela3/venv/lib/python3.6/site-packages/plotnine/stats/stat_bin.py:93: PlotnineWarning: 'stat_bin()' using 'bins = 5'. Pick better value with 'binwidth'.\n",
      "  warn(msg.format(params['bins']), PlotnineWarning)\n"
     ]
    },
    {
     "data": {
      "image/png": "[encoded data removed]",
      "text/plain": [
       "<Figure size 640x480 with 1 Axes>"
      ]
     },
     "metadata": {},
     "output_type": "display_data"
    },
    {
     "data": {
      "text/plain": [
       "<ggplot: (8778138107782)>"
      ]
     },
     "execution_count": 92,
     "metadata": {},
     "output_type": "execute_result"
    }
   ],
   "source": [
    "print(\"Family: TR\")\n",
    "figures[\"TR\"]"
   ]
  },
  {
   "cell_type": "code",
   "execution_count": 93,
   "metadata": {},
   "outputs": [
    {
     "name": "stdout",
     "output_type": "stream",
     "text": [
      "Family: CY\n"
     ]
    },
    {
     "name": "stderr",
     "output_type": "stream",
     "text": [
      "/home/angela3/venv/lib/python3.6/site-packages/plotnine/stats/stat_bin.py:93: PlotnineWarning: 'stat_bin()' using 'bins = 4'. Pick better value with 'binwidth'.\n",
      "  warn(msg.format(params['bins']), PlotnineWarning)\n"
     ]
    },
    {
     "data": {
      "image/png": "[encoded data removed]",
      "text/plain": [
       "<Figure size 640x480 with 1 Axes>"
      ]
     },
     "metadata": {},
     "output_type": "display_data"
    },
    {
     "data": {
      "text/plain": [
       "<ggplot: (8778138107887)>"
      ]
     },
     "execution_count": 93,
     "metadata": {},
     "output_type": "execute_result"
    }
   ],
   "source": [
    "print(\"Family: CY\")\n",
    "figures[\"CY\"]"
   ]
  },
  {
   "cell_type": "code",
   "execution_count": 94,
   "metadata": {},
   "outputs": [
    {
     "name": "stdout",
     "output_type": "stream",
     "text": [
      "Family: PR\n"
     ]
    },
    {
     "name": "stderr",
     "output_type": "stream",
     "text": [
      "/home/angela3/venv/lib/python3.6/site-packages/plotnine/stats/stat_bin.py:93: PlotnineWarning: 'stat_bin()' using 'bins = 7'. Pick better value with 'binwidth'.\n",
      "  warn(msg.format(params['bins']), PlotnineWarning)\n"
     ]
    },
    {
     "data": {
      "image/png": "[encoded data removed]",
      "text/plain": [
       "<Figure size 640x480 with 1 Axes>"
      ]
     },
     "metadata": {},
     "output_type": "display_data"
    },
    {
     "data": {
      "text/plain": [
       "<ggplot: (-9223363258706091597)>"
      ]
     },
     "execution_count": 94,
     "metadata": {},
     "output_type": "execute_result"
    }
   ],
   "source": [
    "print(\"Family: PR\")\n",
    "figures[\"PR\"]"
   ]
  },
  {
   "cell_type": "markdown",
   "metadata": {},
   "source": [
    "## Imbalance per protein "
   ]
  },
  {
   "cell_type": "code",
   "execution_count": 144,
   "metadata": {},
   "outputs": [
    {
     "name": "stdout",
     "output_type": "stream",
     "text": [
      "<class 'pandas.core.frame.DataFrame'>\n",
      "Int64Index: 129997 entries, 0 to 824347\n",
      "Data columns (total 9 columns):\n",
      " #   Column                    Non-Null Count   Dtype  \n",
      "---  ------                    --------------   -----  \n",
      " 0   DeepAffinity Protein ID   129997 non-null  object \n",
      " 1   Uniprot ID                129997 non-null  object \n",
      " 2   DeepAffinity Compound ID  129997 non-null  object \n",
      " 3   CID                       129997 non-null  int64  \n",
      " 4   activity                  129997 non-null  float64\n",
      " 5   label                     129997 non-null  float64\n",
      " 6   Canonical SMILE           129997 non-null  object \n",
      " 7   Sequence                  129997 non-null  object \n",
      " 8   family                    129997 non-null  object \n",
      "dtypes: float64(2), int64(1), object(6)\n",
      "memory usage: 9.9+ MB\n"
     ]
    }
   ],
   "source": [
    "protein_family = \"PK\" #\"GPCR\" #\n",
    "protein_name = \"kinases\" #\"GPCRs\" #\n",
    "\n",
    "# keeping only the protein family\n",
    "activity_sub = activity_df[activity_df.family == protein_family]\n",
    "\n",
    "activity_sub.info()"
   ]
  },
  {
   "cell_type": "code",
   "execution_count": 145,
   "metadata": {},
   "outputs": [
    {
     "data": {
      "text/html": [
       "<div>\n",
       "<style scoped>\n",
       "    .dataframe tbody tr th:only-of-type {\n",
       "        vertical-align: middle;\n",
       "    }\n",
       "\n",
       "    .dataframe tbody tr th {\n",
       "        vertical-align: top;\n",
       "    }\n",
       "\n",
       "    .dataframe thead th {\n",
       "        text-align: right;\n",
       "    }\n",
       "</style>\n",
       "<table border=\"1\" class=\"dataframe\">\n",
       "  <thead>\n",
       "    <tr style=\"text-align: right;\">\n",
       "      <th></th>\n",
       "      <th>DeepAffinity Protein ID</th>\n",
       "      <th>Uniprot ID</th>\n",
       "      <th>DeepAffinity Compound ID</th>\n",
       "      <th>CID</th>\n",
       "      <th>activity</th>\n",
       "      <th>label</th>\n",
       "      <th>Canonical SMILE</th>\n",
       "      <th>Sequence</th>\n",
       "      <th>family</th>\n",
       "    </tr>\n",
       "  </thead>\n",
       "  <tbody>\n",
       "    <tr>\n",
       "      <th>0</th>\n",
       "      <td>DP71</td>\n",
       "      <td>P11275</td>\n",
       "      <td>c6f3</td>\n",
       "      <td>5330796</td>\n",
       "      <td>7.154902</td>\n",
       "      <td>1.0</td>\n",
       "      <td>C1=CC=C2C(=C1)C3=C4C(=C5C6=C(C=CC(=C6)Br)NC5=C...</td>\n",
       "      <td>MATITCTRFTEEYQLFEELGKGAFSVVRRCVKVLAGQEYAAKIINT...</td>\n",
       "      <td>PK</td>\n",
       "    </tr>\n",
       "    <tr>\n",
       "      <th>1</th>\n",
       "      <td>DP71</td>\n",
       "      <td>P11275</td>\n",
       "      <td>8byu</td>\n",
       "      <td>5330766</td>\n",
       "      <td>6.278189</td>\n",
       "      <td>1.0</td>\n",
       "      <td>CN1C=CC2=C1C3=C(C=C2)C4=C(C5=C(N4CCNCCO)C=C(C=...</td>\n",
       "      <td>MATITCTRFTEEYQLFEELGKGAFSVVRRCVKVLAGQEYAAKIINT...</td>\n",
       "      <td>PK</td>\n",
       "    </tr>\n",
       "    <tr>\n",
       "      <th>2</th>\n",
       "      <td>DP71</td>\n",
       "      <td>P11275</td>\n",
       "      <td>wjw8</td>\n",
       "      <td>5330767</td>\n",
       "      <td>5.931814</td>\n",
       "      <td>0.0</td>\n",
       "      <td>CN1C=CC2=C1C3=C(C=C2)C4=C(C5=C(N4CCNC6CCC(CC6)...</td>\n",
       "      <td>MATITCTRFTEEYQLFEELGKGAFSVVRRCVKVLAGQEYAAKIINT...</td>\n",
       "      <td>PK</td>\n",
       "    </tr>\n",
       "    <tr>\n",
       "      <th>3</th>\n",
       "      <td>DP71</td>\n",
       "      <td>P11275</td>\n",
       "      <td>akod</td>\n",
       "      <td>5330768</td>\n",
       "      <td>5.515700</td>\n",
       "      <td>0.0</td>\n",
       "      <td>CN1C=CC2=C1C3=C(C=C2)C4=C(C5=C(N4CCCN6CCC(CC6)...</td>\n",
       "      <td>MATITCTRFTEEYQLFEELGKGAFSVVRRCVKVLAGQEYAAKIINT...</td>\n",
       "      <td>PK</td>\n",
       "    </tr>\n",
       "    <tr>\n",
       "      <th>4</th>\n",
       "      <td>DP71</td>\n",
       "      <td>P11275</td>\n",
       "      <td>vy7z</td>\n",
       "      <td>5330769</td>\n",
       "      <td>5.504456</td>\n",
       "      <td>0.0</td>\n",
       "      <td>CN1C=CC2=C1C3=C(C=C2)C4=C(C5=C(N4CCCN6CCC(CC6)...</td>\n",
       "      <td>MATITCTRFTEEYQLFEELGKGAFSVVRRCVKVLAGQEYAAKIINT...</td>\n",
       "      <td>PK</td>\n",
       "    </tr>\n",
       "  </tbody>\n",
       "</table>\n",
       "</div>"
      ],
      "text/plain": [
       "  DeepAffinity Protein ID Uniprot ID DeepAffinity Compound ID      CID  \\\n",
       "0                    DP71     P11275                     c6f3  5330796   \n",
       "1                    DP71     P11275                     8byu  5330766   \n",
       "2                    DP71     P11275                     wjw8  5330767   \n",
       "3                    DP71     P11275                     akod  5330768   \n",
       "4                    DP71     P11275                     vy7z  5330769   \n",
       "\n",
       "   activity  label                                    Canonical SMILE  \\\n",
       "0  7.154902    1.0  C1=CC=C2C(=C1)C3=C4C(=C5C6=C(C=CC(=C6)Br)NC5=C...   \n",
       "1  6.278189    1.0  CN1C=CC2=C1C3=C(C=C2)C4=C(C5=C(N4CCNCCO)C=C(C=...   \n",
       "2  5.931814    0.0  CN1C=CC2=C1C3=C(C=C2)C4=C(C5=C(N4CCNC6CCC(CC6)...   \n",
       "3  5.515700    0.0  CN1C=CC2=C1C3=C(C=C2)C4=C(C5=C(N4CCCN6CCC(CC6)...   \n",
       "4  5.504456    0.0  CN1C=CC2=C1C3=C(C=C2)C4=C(C5=C(N4CCCN6CCC(CC6)...   \n",
       "\n",
       "                                            Sequence family  \n",
       "0  MATITCTRFTEEYQLFEELGKGAFSVVRRCVKVLAGQEYAAKIINT...     PK  \n",
       "1  MATITCTRFTEEYQLFEELGKGAFSVVRRCVKVLAGQEYAAKIINT...     PK  \n",
       "2  MATITCTRFTEEYQLFEELGKGAFSVVRRCVKVLAGQEYAAKIINT...     PK  \n",
       "3  MATITCTRFTEEYQLFEELGKGAFSVVRRCVKVLAGQEYAAKIINT...     PK  \n",
       "4  MATITCTRFTEEYQLFEELGKGAFSVVRRCVKVLAGQEYAAKIINT...     PK  "
      ]
     },
     "execution_count": 145,
     "metadata": {},
     "output_type": "execute_result"
    }
   ],
   "source": [
    "activity_sub.head()"
   ]
  },
  {
   "cell_type": "code",
   "execution_count": 146,
   "metadata": {},
   "outputs": [
    {
     "data": {
      "text/html": [
       "<div>\n",
       "<style scoped>\n",
       "    .dataframe tbody tr th:only-of-type {\n",
       "        vertical-align: middle;\n",
       "    }\n",
       "\n",
       "    .dataframe tbody tr th {\n",
       "        vertical-align: top;\n",
       "    }\n",
       "\n",
       "    .dataframe thead th {\n",
       "        text-align: right;\n",
       "    }\n",
       "</style>\n",
       "<table border=\"1\" class=\"dataframe\">\n",
       "  <thead>\n",
       "    <tr style=\"text-align: right;\">\n",
       "      <th></th>\n",
       "      <th>DeepAffinity Protein ID</th>\n",
       "      <th>label</th>\n",
       "      <th>0</th>\n",
       "    </tr>\n",
       "  </thead>\n",
       "  <tbody>\n",
       "    <tr>\n",
       "      <th>0</th>\n",
       "      <td>0AXF</td>\n",
       "      <td>0.0</td>\n",
       "      <td>8</td>\n",
       "    </tr>\n",
       "    <tr>\n",
       "      <th>1</th>\n",
       "      <td>0AXF</td>\n",
       "      <td>1.0</td>\n",
       "      <td>17</td>\n",
       "    </tr>\n",
       "    <tr>\n",
       "      <th>2</th>\n",
       "      <td>0BBQ</td>\n",
       "      <td>0.0</td>\n",
       "      <td>10</td>\n",
       "    </tr>\n",
       "    <tr>\n",
       "      <th>3</th>\n",
       "      <td>0BBQ</td>\n",
       "      <td>1.0</td>\n",
       "      <td>29</td>\n",
       "    </tr>\n",
       "    <tr>\n",
       "      <th>4</th>\n",
       "      <td>0BYT</td>\n",
       "      <td>0.0</td>\n",
       "      <td>251</td>\n",
       "    </tr>\n",
       "  </tbody>\n",
       "</table>\n",
       "</div>"
      ],
      "text/plain": [
       "  DeepAffinity Protein ID  label    0\n",
       "0                    0AXF    0.0    8\n",
       "1                    0AXF    1.0   17\n",
       "2                    0BBQ    0.0   10\n",
       "3                    0BBQ    1.0   29\n",
       "4                    0BYT    0.0  251"
      ]
     },
     "execution_count": 146,
     "metadata": {},
     "output_type": "execute_result"
    }
   ],
   "source": [
    "label_count_subprot = pd.DataFrame(activity_sub[[\"DeepAffinity Protein ID\", \"label\"]].groupby([\"DeepAffinity Protein ID\", \"label\"]).size()).reset_index()\n",
    "\n",
    "label_count_subprot.head()"
   ]
  },
  {
   "cell_type": "code",
   "execution_count": 147,
   "metadata": {},
   "outputs": [
    {
     "name": "stdout",
     "output_type": "stream",
     "text": [
      "<class 'pandas.core.frame.DataFrame'>\n",
      "RangeIndex: 921 entries, 0 to 920\n",
      "Data columns (total 3 columns):\n",
      " #   Column                   Non-Null Count  Dtype  \n",
      "---  ------                   --------------  -----  \n",
      " 0   DeepAffinity Protein ID  921 non-null    object \n",
      " 1   label                    921 non-null    float64\n",
      " 2   0                        921 non-null    int64  \n",
      "dtypes: float64(1), int64(1), object(1)\n",
      "memory usage: 21.7+ KB\n"
     ]
    }
   ],
   "source": [
    "label_count_subprot.info()"
   ]
  },
  {
   "cell_type": "code",
   "execution_count": 148,
   "metadata": {},
   "outputs": [],
   "source": [
    "label_count_subprot.columns = ['DeepAffinity Protein ID', 'label', \"number\"]"
   ]
  },
  {
   "cell_type": "code",
   "execution_count": 149,
   "metadata": {},
   "outputs": [],
   "source": [
    "#Filling the count label dataframe\n",
    "\n",
    "for prot in label_count_subprot[\"DeepAffinity Protein ID\"].unique().tolist():\n",
    "    labels = [0, 1]\n",
    "    subprot = label_count_subprot[label_count_subprot[\"DeepAffinity Protein ID\"] == prot]\n",
    "    #print(subprot.shape[0])\n",
    "    if subprot.shape[0]==2:\n",
    "        continue\n",
    "    else:\n",
    "        nomissing_label = subprot[[\"label\"]].values\n",
    "        missing_label = [i for i in labels if i!=nomissing_label][0]\n",
    "        row_dict = {\"DeepAffinity Protein ID\": prot, \"label\": missing_label, \"number\":0}\n",
    "        label_count_subprot = label_count_subprot.append(row_dict, ignore_index=True)"
   ]
  },
  {
   "cell_type": "code",
   "execution_count": 150,
   "metadata": {},
   "outputs": [
    {
     "name": "stdout",
     "output_type": "stream",
     "text": [
      "<class 'pandas.core.frame.DataFrame'>\n",
      "RangeIndex: 980 entries, 0 to 979\n",
      "Data columns (total 3 columns):\n",
      " #   Column                   Non-Null Count  Dtype  \n",
      "---  ------                   --------------  -----  \n",
      " 0   DeepAffinity Protein ID  980 non-null    object \n",
      " 1   label                    980 non-null    float64\n",
      " 2   number                   980 non-null    int64  \n",
      "dtypes: float64(1), int64(1), object(1)\n",
      "memory usage: 23.1+ KB\n"
     ]
    }
   ],
   "source": [
    "label_count_subprot.info()"
   ]
  },
  {
   "cell_type": "code",
   "execution_count": 151,
   "metadata": {},
   "outputs": [
    {
     "data": {
      "text/html": [
       "<div>\n",
       "<style scoped>\n",
       "    .dataframe tbody tr th:only-of-type {\n",
       "        vertical-align: middle;\n",
       "    }\n",
       "\n",
       "    .dataframe tbody tr th {\n",
       "        vertical-align: top;\n",
       "    }\n",
       "\n",
       "    .dataframe thead th {\n",
       "        text-align: right;\n",
       "    }\n",
       "</style>\n",
       "<table border=\"1\" class=\"dataframe\">\n",
       "  <thead>\n",
       "    <tr style=\"text-align: right;\">\n",
       "      <th></th>\n",
       "      <th>DeepAffinity Protein ID</th>\n",
       "      <th>label</th>\n",
       "      <th>number</th>\n",
       "    </tr>\n",
       "  </thead>\n",
       "  <tbody>\n",
       "    <tr>\n",
       "      <th>0</th>\n",
       "      <td>0AXF</td>\n",
       "      <td>0.0</td>\n",
       "      <td>8</td>\n",
       "    </tr>\n",
       "    <tr>\n",
       "      <th>1</th>\n",
       "      <td>0AXF</td>\n",
       "      <td>1.0</td>\n",
       "      <td>17</td>\n",
       "    </tr>\n",
       "    <tr>\n",
       "      <th>2</th>\n",
       "      <td>0BBQ</td>\n",
       "      <td>0.0</td>\n",
       "      <td>10</td>\n",
       "    </tr>\n",
       "    <tr>\n",
       "      <th>3</th>\n",
       "      <td>0BBQ</td>\n",
       "      <td>1.0</td>\n",
       "      <td>29</td>\n",
       "    </tr>\n",
       "    <tr>\n",
       "      <th>4</th>\n",
       "      <td>0BYT</td>\n",
       "      <td>0.0</td>\n",
       "      <td>251</td>\n",
       "    </tr>\n",
       "    <tr>\n",
       "      <th>...</th>\n",
       "      <td>...</td>\n",
       "      <td>...</td>\n",
       "      <td>...</td>\n",
       "    </tr>\n",
       "    <tr>\n",
       "      <th>916</th>\n",
       "      <td>ZXO3</td>\n",
       "      <td>1.0</td>\n",
       "      <td>18</td>\n",
       "    </tr>\n",
       "    <tr>\n",
       "      <th>917</th>\n",
       "      <td>ZYFI</td>\n",
       "      <td>0.0</td>\n",
       "      <td>2</td>\n",
       "    </tr>\n",
       "    <tr>\n",
       "      <th>918</th>\n",
       "      <td>ZYFI</td>\n",
       "      <td>1.0</td>\n",
       "      <td>4</td>\n",
       "    </tr>\n",
       "    <tr>\n",
       "      <th>920</th>\n",
       "      <td>ZZXK</td>\n",
       "      <td>1.0</td>\n",
       "      <td>5</td>\n",
       "    </tr>\n",
       "    <tr>\n",
       "      <th>919</th>\n",
       "      <td>ZZXK</td>\n",
       "      <td>0.0</td>\n",
       "      <td>9</td>\n",
       "    </tr>\n",
       "  </tbody>\n",
       "</table>\n",
       "<p>980 rows × 3 columns</p>\n",
       "</div>"
      ],
      "text/plain": [
       "    DeepAffinity Protein ID  label  number\n",
       "0                      0AXF    0.0       8\n",
       "1                      0AXF    1.0      17\n",
       "2                      0BBQ    0.0      10\n",
       "3                      0BBQ    1.0      29\n",
       "4                      0BYT    0.0     251\n",
       "..                      ...    ...     ...\n",
       "916                    ZXO3    1.0      18\n",
       "917                    ZYFI    0.0       2\n",
       "918                    ZYFI    1.0       4\n",
       "920                    ZZXK    1.0       5\n",
       "919                    ZZXK    0.0       9\n",
       "\n",
       "[980 rows x 3 columns]"
      ]
     },
     "execution_count": 151,
     "metadata": {},
     "output_type": "execute_result"
    }
   ],
   "source": [
    "label_count_subprot.sort_values(\"DeepAffinity Protein ID\")"
   ]
  },
  {
   "cell_type": "code",
   "execution_count": 152,
   "metadata": {},
   "outputs": [
    {
     "name": "stderr",
     "output_type": "stream",
     "text": [
      "/home/angela3/venv/lib/python3.6/site-packages/plotnine/ggplot.py:729: PlotnineWarning: Saving 6.4 x 4.8 in image.\n",
      "  from_inches(height, units), units), PlotnineWarning)\n",
      "/home/angela3/venv/lib/python3.6/site-packages/plotnine/ggplot.py:730: PlotnineWarning: Filename: /home/angela3/imbalance_pcm_benchmark/data/kinases/boxplot_ninteractions.pdf\n",
      "  warn('Filename: {}'.format(filename), PlotnineWarning)\n"
     ]
    }
   ],
   "source": [
    "p = (ggplot(label_count_subprot, aes(x=\"factor(label)\", y=\"number\")) \n",
    " + geom_boxplot() + ylab(\"Number of interactions\")\n",
    " + xlab(\"Labels\") + theme(legend_title=element_blank())\n",
    "+ ggtitle(protein_name) \n",
    " #+ scale_y_log10()\n",
    ")\n",
    "\n",
    "p\n",
    "\n",
    "ggsave(plot=p, \n",
    "       filename=\"\".join((absPath, \"data/\", protein_name, \"/boxplot_ninteractions.pdf\")), device = \"pdf\")"
   ]
  },
  {
   "cell_type": "code",
   "execution_count": null,
   "metadata": {},
   "outputs": [],
   "source": []
  },
  {
   "cell_type": "markdown",
   "metadata": {},
   "source": [
    "### Exporting CSV for a protein family"
   ]
  },
  {
   "cell_type": "code",
   "execution_count": 154,
   "metadata": {},
   "outputs": [],
   "source": [
    "protein_family = \"GPCR\" #\"PK\"\n",
    "protein_name = \"GPCRs\" #\"kinases\""
   ]
  },
  {
   "cell_type": "code",
   "execution_count": 155,
   "metadata": {},
   "outputs": [
    {
     "name": "stdout",
     "output_type": "stream",
     "text": [
      "<class 'pandas.core.frame.DataFrame'>\n",
      "Int64Index: 200523 entries, 32 to 828913\n",
      "Data columns (total 9 columns):\n",
      " #   Column                    Non-Null Count   Dtype  \n",
      "---  ------                    --------------   -----  \n",
      " 0   DeepAffinity Protein ID   200523 non-null  object \n",
      " 1   Uniprot ID                200523 non-null  object \n",
      " 2   DeepAffinity Compound ID  200523 non-null  object \n",
      " 3   CID                       200523 non-null  int64  \n",
      " 4   activity                  200523 non-null  float64\n",
      " 5   label                     200523 non-null  float64\n",
      " 6   Canonical SMILE           200523 non-null  object \n",
      " 7   Sequence                  200523 non-null  object \n",
      " 8   family                    200523 non-null  object \n",
      "dtypes: float64(2), int64(1), object(6)\n",
      "memory usage: 15.3+ MB\n"
     ]
    }
   ],
   "source": [
    "# keeping only the protein family\n",
    "activity_sub = activity_df[activity_df.family == protein_family]\n",
    "\n",
    "unique_prots = activity_sub[\"DeepAffinity Protein ID\"].unique().tolist()\n",
    "\n",
    "activity_sub.info()"
   ]
  },
  {
   "cell_type": "code",
   "execution_count": 156,
   "metadata": {},
   "outputs": [
    {
     "data": {
      "text/plain": [
       "1.0    153993\n",
       "0.0     46530\n",
       "Name: label, dtype: int64"
      ]
     },
     "execution_count": 156,
     "metadata": {},
     "output_type": "execute_result"
    }
   ],
   "source": [
    "activity_sub[\"label\"].value_counts()"
   ]
  },
  {
   "cell_type": "code",
   "execution_count": null,
   "metadata": {},
   "outputs": [],
   "source": []
  },
  {
   "cell_type": "code",
   "execution_count": 158,
   "metadata": {},
   "outputs": [
    {
     "name": "stdout",
     "output_type": "stream",
     "text": [
      "There are 200523 protein-compound pairs available in  GPCRs\n"
     ]
    }
   ],
   "source": [
    "print(\"There are\", activity_sub.shape[0], \"protein-compound pairs available in \", protein_name)"
   ]
  },
  {
   "cell_type": "code",
   "execution_count": 18,
   "metadata": {},
   "outputs": [],
   "source": [
    "#Saving final dataset to a csv\n",
    "output_filename = \"\".join((absPath, \"data/\", protein_name, \"_activity.csv\"))\n",
    "activity_sub.to_csv(output_filename, sep=\"\\t\", header=True)"
   ]
  },
  {
   "cell_type": "code",
   "execution_count": 157,
   "metadata": {},
   "outputs": [],
   "source": [
    "unique_prots = activity_sub[\"DeepAffinity Protein ID\"].unique().tolist()"
   ]
  },
  {
   "cell_type": "code",
   "execution_count": 20,
   "metadata": {},
   "outputs": [
    {
     "data": {
      "text/plain": [
       "['UYMO',\n",
       " '0BJE',\n",
       " '78TA',\n",
       " 'RJYX',\n",
       " '95E2',\n",
       " 'P59Q',\n",
       " 'XY2A',\n",
       " '3Y9A',\n",
       " 'J6QF',\n",
       " 'I8AL',\n",
       " 'K1O5',\n",
       " 'Q6RX',\n",
       " 'L3MG',\n",
       " '5W5R',\n",
       " '3KD1',\n",
       " 'MUMW',\n",
       " 'SH36',\n",
       " '2CH1',\n",
       " 'TOAR',\n",
       " 'F5KQ',\n",
       " 'N0SR',\n",
       " '230E',\n",
       " 'OYY9',\n",
       " '7WTN',\n",
       " '8VB1',\n",
       " 'CVFR',\n",
       " 'LETU',\n",
       " 'LFAB',\n",
       " 'C0XK',\n",
       " 'DFO0',\n",
       " '1ZXI',\n",
       " 'SXV6',\n",
       " 'DPHN',\n",
       " 'ZALS',\n",
       " 'Y9QF',\n",
       " 'YO6L',\n",
       " '3Y7S',\n",
       " '5GL1',\n",
       " 'NXHT',\n",
       " 'JVOZ',\n",
       " '4C54',\n",
       " '06WU',\n",
       " '662N',\n",
       " 'ES23',\n",
       " 'KPOO',\n",
       " 'DFF0',\n",
       " 'CFPC',\n",
       " 'SPT7',\n",
       " 'HSYO',\n",
       " 'FESF',\n",
       " 'FFXN',\n",
       " '1AZF',\n",
       " '5N4X',\n",
       " 'G8ER',\n",
       " 'SG15',\n",
       " '2SAM',\n",
       " '8PJC',\n",
       " 'TBTI',\n",
       " '4BF3',\n",
       " 'DCP7',\n",
       " 'XTZC',\n",
       " 'VX88',\n",
       " 'V31H',\n",
       " '8ZJZ',\n",
       " 'OG3W',\n",
       " '33X9',\n",
       " '69Q1',\n",
       " 'SVAL',\n",
       " 'OBT5',\n",
       " '3QL2',\n",
       " '7V1X',\n",
       " '1MWP',\n",
       " 'IAKH',\n",
       " 'DU8D',\n",
       " 'FFCA',\n",
       " '4SAW',\n",
       " 'ZG4W',\n",
       " '9FAD',\n",
       " 'K90C',\n",
       " 'CJWT',\n",
       " 'SJGF',\n",
       " 'LTX5',\n",
       " 'V27B',\n",
       " 'QZ2G',\n",
       " 'RPPN',\n",
       " 'C0L6',\n",
       " '5K6Y',\n",
       " 'IE5U',\n",
       " 'YVNY',\n",
       " '3WO1',\n",
       " 'S982',\n",
       " 'YT4M',\n",
       " 'DLLJ',\n",
       " 'MAYC',\n",
       " '79FS',\n",
       " 'BDHY',\n",
       " 'SKZW',\n",
       " '8L6X',\n",
       " 'OTEJ',\n",
       " '5T8S',\n",
       " 'KOPG',\n",
       " '3DQ7',\n",
       " 'H5E4',\n",
       " '5NBB',\n",
       " '00QN',\n",
       " 'JB1G',\n",
       " 'WP5M',\n",
       " 'L0SK',\n",
       " 'JC99',\n",
       " '7ODP',\n",
       " 'MQ2W',\n",
       " '9AAT',\n",
       " 'BYDL',\n",
       " 'MJPC',\n",
       " 'MXWS',\n",
       " '8XDT',\n",
       " 'UAIV',\n",
       " '29H1',\n",
       " 'N5CC',\n",
       " '5BQC',\n",
       " '73I1',\n",
       " '0IC4',\n",
       " 'YF0U',\n",
       " 'F5YR',\n",
       " 'ONPO',\n",
       " 'SF3A',\n",
       " 'CJFF',\n",
       " '0BU5',\n",
       " '01F8',\n",
       " '7ZD3',\n",
       " 'M495',\n",
       " 'QXFT',\n",
       " 'BKKI',\n",
       " 'TU17',\n",
       " 'PJXV',\n",
       " 'SLHO',\n",
       " 'NXPC',\n",
       " 'PE9W',\n",
       " 'NP8E',\n",
       " '5JBM',\n",
       " 'YWEK',\n",
       " 'DEFE',\n",
       " 'RNLC',\n",
       " 'K29X',\n",
       " 'VD6S',\n",
       " 'PVR4',\n",
       " 'JMNP',\n",
       " 'M4Y3',\n",
       " 'M507',\n",
       " '9IC7',\n",
       " '8UXH',\n",
       " '4YTY',\n",
       " 'FAKH',\n",
       " 'BDT3',\n",
       " 'SGQ8',\n",
       " 'SQC5',\n",
       " '9GBB',\n",
       " '9DXD',\n",
       " 'QCBL',\n",
       " 'JAZ8',\n",
       " 'Z4HP',\n",
       " 'WWW9',\n",
       " '8N3W',\n",
       " 'GKE3',\n",
       " 'RBO1',\n",
       " 'BIK1',\n",
       " 'XIRQ',\n",
       " 'EEKE',\n",
       " 'KK61',\n",
       " '2UQZ',\n",
       " 'OSIM',\n",
       " 'FFON',\n",
       " 'SNJR',\n",
       " 'WQ1G',\n",
       " 'DL94',\n",
       " '5KLU',\n",
       " 'O5PY',\n",
       " '0GN2',\n",
       " '17WD',\n",
       " 'F6Z7',\n",
       " '3ISZ',\n",
       " 'SH1W',\n",
       " 'K5VV',\n",
       " '679E',\n",
       " '7XRS',\n",
       " 'INUW',\n",
       " 'QJDP',\n",
       " 'L7A9',\n",
       " '6YJR',\n",
       " '5OHP',\n",
       " 'VIQX',\n",
       " 'NGK2',\n",
       " '6DY3',\n",
       " 'NL7Q',\n",
       " 'LYQY',\n",
       " 'M3YS',\n",
       " 'FFYH',\n",
       " 'QUZP',\n",
       " '3ROI',\n",
       " '4QHA',\n",
       " 'WQ3A',\n",
       " 'DNWK',\n",
       " 'NTUT',\n",
       " '3Z8F',\n",
       " 'TFJZ',\n",
       " 'DJ5R',\n",
       " '00RX',\n",
       " '0HD3',\n",
       " '1HM4',\n",
       " 'PNO7',\n",
       " 'O7ZO',\n",
       " 'Q629',\n",
       " '3QPC',\n",
       " 'ZILL',\n",
       " 'TNWO',\n",
       " 'ZONA',\n",
       " 'I9GA',\n",
       " 'UYUW',\n",
       " '5BY2',\n",
       " '4ZSS',\n",
       " 'RANQ',\n",
       " 'MT2Z',\n",
       " 'Q7BQ',\n",
       " 'XX5E',\n",
       " 'Q1PW',\n",
       " '4C23',\n",
       " '2L0N',\n",
       " 'VS0Q',\n",
       " 'F6Q9',\n",
       " '8AWJ',\n",
       " 'MWFN',\n",
       " '75FP',\n",
       " '7TR6',\n",
       " '8T7I',\n",
       " '8HUR',\n",
       " '3UKW',\n",
       " 'XDX7',\n",
       " '1630',\n",
       " 'CIEE',\n",
       " 'JRX4',\n",
       " 'KX5H',\n",
       " '4XBT',\n",
       " '0HDE',\n",
       " 'B8M1',\n",
       " 'MZ6E',\n",
       " '7UYC',\n",
       " '0YVO',\n",
       " '43BP',\n",
       " 'J4XL',\n",
       " 'GKL5',\n",
       " 'EN75',\n",
       " '4O6Q',\n",
       " 'CNG4',\n",
       " '79GX',\n",
       " 'NJJH',\n",
       " '8TEG',\n",
       " '2B66',\n",
       " 'HGTX',\n",
       " 'NWNZ',\n",
       " '6YX0',\n",
       " '4SYY',\n",
       " 'MDPN',\n",
       " 'B739',\n",
       " 'BQC9',\n",
       " 'ASTH',\n",
       " 'M5MT',\n",
       " 'P34O',\n",
       " 'Q3S4',\n",
       " '04FY',\n",
       " 'WJ2V',\n",
       " 'SLJ0',\n",
       " 'C0X9',\n",
       " '52A7',\n",
       " 'VFDZ',\n",
       " '7H12',\n",
       " 'PHZ3',\n",
       " '8NWI',\n",
       " 'IRBQ',\n",
       " 'YP1E',\n",
       " 'TNCX',\n",
       " 'CQ8G',\n",
       " 'A8QF',\n",
       " 'L9B4',\n",
       " 'SBPS',\n",
       " 'YC9D',\n",
       " 'DQHD',\n",
       " 'XGLW',\n",
       " '7JI8',\n",
       " 'QXWE',\n",
       " '1MLO',\n",
       " 'MFH8',\n",
       " '3TT2',\n",
       " 'RI99',\n",
       " '6E7K',\n",
       " 'F46E',\n",
       " 'KHJE',\n",
       " 'O571',\n",
       " 'TH6Y',\n",
       " 'TCB5',\n",
       " 'VJX4',\n",
       " 'E2X2',\n",
       " '52PT',\n",
       " 'K63E',\n",
       " 'UZ5Y',\n",
       " 'SELZ',\n",
       " '3RDP',\n",
       " 'JXR1',\n",
       " '0HIJ',\n",
       " 'J9PS',\n",
       " 'L8IN',\n",
       " '40KR',\n",
       " '41J9',\n",
       " '6MJ9',\n",
       " 'Y3JP',\n",
       " '6CGU',\n",
       " 'KGHB',\n",
       " '1ODV',\n",
       " 'GUAR',\n",
       " 'M51L',\n",
       " 'GCDK',\n",
       " 'QWUR',\n",
       " '9OO7',\n",
       " '884H',\n",
       " 'YEW2',\n",
       " '6OY2',\n",
       " '24IF',\n",
       " 'QR2H',\n",
       " 'VAO8',\n",
       " 'RWVP',\n",
       " 'RF4S',\n",
       " '5ZH2',\n",
       " 'CNF3',\n",
       " 'DDIO',\n",
       " 'OO26',\n",
       " 'TSAP',\n",
       " 'L5ZE',\n",
       " 'UWXL',\n",
       " 'E9GT',\n",
       " 'TIRU',\n",
       " 'KCK7',\n",
       " '4YVC',\n",
       " 'A30N',\n",
       " 'LWF5',\n",
       " 'Y9YO',\n",
       " 'BPYP',\n",
       " '9JFJ',\n",
       " '0SV6',\n",
       " 'H4Z7',\n",
       " 'VTYC',\n",
       " 'WJF5',\n",
       " '55RZ',\n",
       " 'IQC8',\n",
       " 'D8D9',\n",
       " 'NPKN',\n",
       " 'NS7R',\n",
       " 'XTGL',\n",
       " 'JXFO',\n",
       " '4BR2',\n",
       " 'VGW4',\n",
       " '9S3U',\n",
       " 'ZI52',\n",
       " '581W',\n",
       " '4ZG0',\n",
       " '8UBP',\n",
       " 'WN52',\n",
       " 'DJ4D',\n",
       " 'GGT7',\n",
       " 'W49D',\n",
       " 'J4PX',\n",
       " 'VTB8',\n",
       " 'G463',\n",
       " 'XK8I',\n",
       " '30Z6',\n",
       " 'FP3F',\n",
       " '302N',\n",
       " 'P62Y',\n",
       " 'WRJT',\n",
       " 'UKF8',\n",
       " '8PTF',\n",
       " 'HBH7',\n",
       " 'XYN7',\n",
       " 'SLWS',\n",
       " '93M7',\n",
       " 'W166',\n",
       " 'H878',\n",
       " 'NG45',\n",
       " 'MCUD',\n",
       " 'S77L',\n",
       " 'KGJK',\n",
       " 'TUIG',\n",
       " '5QYK',\n",
       " 'N1SI',\n",
       " 'CZLO',\n",
       " 'VX6K',\n",
       " 'EV5K',\n",
       " 'FOFG',\n",
       " 'L2TM',\n",
       " '99MR',\n",
       " 'E50M',\n",
       " 'NBOJ',\n",
       " 'N9PY',\n",
       " 'SZNQ',\n",
       " '23G8',\n",
       " 'RFUF',\n",
       " '0L2B',\n",
       " '9N4D',\n",
       " 'MSYY',\n",
       " 'VBB0',\n",
       " 'CIZU',\n",
       " 'XWVK',\n",
       " '9LRW',\n",
       " 'LCLN',\n",
       " 'WQAE',\n",
       " '5WQJ',\n",
       " 'QBW8',\n",
       " 'ECOV',\n",
       " 'MSSV',\n",
       " 'HYCA',\n",
       " 'C15P',\n",
       " 'SIFM',\n",
       " '6HDU',\n",
       " '7OOG',\n",
       " 'EGAD',\n",
       " 'SN4A',\n",
       " 'WUE0',\n",
       " 'EW6J',\n",
       " 'JJVC',\n",
       " '82RC',\n",
       " 'ZNRS',\n",
       " 'VLLZ',\n",
       " 'KZYY',\n",
       " 'LYO7',\n",
       " 'GJS2',\n",
       " 'IV2D',\n",
       " 'IB5X',\n",
       " 'KMYX',\n",
       " 'JW3C',\n",
       " '9RML',\n",
       " '0048',\n",
       " 'GRNT',\n",
       " 'XRDN',\n",
       " '1XAL',\n",
       " '30AY',\n",
       " 'OBNN',\n",
       " '958C',\n",
       " 'T6BU',\n",
       " 'DLNA',\n",
       " 'NSI7',\n",
       " '2RFG',\n",
       " '4W9P',\n",
       " 'W46W',\n",
       " '9V7L',\n",
       " 'D828',\n",
       " 'YOLG',\n",
       " 'I9KG',\n",
       " 'LWNA',\n",
       " '3XH6',\n",
       " 'ZBWZ',\n",
       " '9UNE',\n",
       " 'R47T',\n",
       " 'HC5C',\n",
       " '74SD',\n",
       " 'PWOG',\n",
       " 'C8AM',\n",
       " '9GIZ',\n",
       " 'IV6K',\n",
       " 'EFPE',\n",
       " 'N4QE',\n",
       " '75LH',\n",
       " '516E',\n",
       " '00NN',\n",
       " 'U8Z3',\n",
       " 'YO38',\n",
       " 'DWXP',\n",
       " 'V40B',\n",
       " 'PRD3',\n",
       " 'BFIR',\n",
       " 'DF2W',\n",
       " '7ESP',\n",
       " '4MJ3',\n",
       " 'M2GJ',\n",
       " 'EBWZ',\n",
       " 'OBOK',\n",
       " 'TDSB',\n",
       " '75RM',\n",
       " 'XFGZ',\n",
       " 'XN65',\n",
       " 'ZQG1',\n",
       " '2SM8',\n",
       " '7WFI',\n",
       " 'L3R3',\n",
       " '9M7S',\n",
       " 'PSAX',\n",
       " '6N5Y',\n",
       " 'C5UP',\n",
       " 'MSAZ',\n",
       " '9MDC',\n",
       " 'EAPK']"
      ]
     },
     "execution_count": 20,
     "metadata": {},
     "output_type": "execute_result"
    }
   ],
   "source": [
    "unique_prots"
   ]
  },
  {
   "cell_type": "code",
   "execution_count": 159,
   "metadata": {},
   "outputs": [
    {
     "data": {
      "text/plain": [
       "498"
      ]
     },
     "execution_count": 159,
     "metadata": {},
     "output_type": "execute_result"
    }
   ],
   "source": [
    "len(unique_prots)"
   ]
  },
  {
   "cell_type": "code",
   "execution_count": 160,
   "metadata": {},
   "outputs": [
    {
     "data": {
      "text/plain": [
       "120906"
      ]
     },
     "execution_count": 160,
     "metadata": {},
     "output_type": "execute_result"
    }
   ],
   "source": [
    "unique_comps = activity_sub[\"DeepAffinity Compound ID\"].unique().tolist()\n",
    "len(unique_comps)"
   ]
  },
  {
   "cell_type": "code",
   "execution_count": 21,
   "metadata": {},
   "outputs": [],
   "source": [
    "#unique_prots_str = [prot.encode(\"utf-8\") for prot in unique_prots]\n",
    "#unique_prots_str[:3]"
   ]
  },
  {
   "cell_type": "code",
   "execution_count": 23,
   "metadata": {},
   "outputs": [],
   "source": [
    "with open(\"\".join((absPath, \"data/\", protein_name, \"/\", protein_name, \"_prots.pickle\")), 'wb') as handle:\n",
    "    pickle.dump(unique_prots, handle)"
   ]
  },
  {
   "cell_type": "code",
   "execution_count": null,
   "metadata": {},
   "outputs": [],
   "source": []
  }
 ],
 "metadata": {
  "kernelspec": {
   "display_name": "Python 3",
   "language": "python",
   "name": "python3"
  },
  "language_info": {
   "codemirror_mode": {
    "name": "ipython",
    "version": 3
   },
   "file_extension": ".py",
   "mimetype": "text/x-python",
   "name": "python",
   "nbconvert_exporter": "python",
   "pygments_lexer": "ipython3",
   "version": "3.6.9"
  }
 },
 "nbformat": 4,
 "nbformat_minor": 4
}
