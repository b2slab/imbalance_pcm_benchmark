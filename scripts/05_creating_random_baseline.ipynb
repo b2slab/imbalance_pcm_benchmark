{
 "cells": [
  {
   "cell_type": "code",
   "execution_count": 1,
   "metadata": {},
   "outputs": [
    {
     "name": "stderr",
     "output_type": "stream",
     "text": [
      "Using TensorFlow backend.\n"
     ]
    }
   ],
   "source": [
    "from __future__ import division, absolute_import\n",
    "\n",
    "import sys\n",
    "import random\n",
    "import pickle\n",
    "\n",
    "import pandas as pd\n",
    "import numpy as np\n",
    "import h5py\n",
    "from plotnine import *\n",
    "import seaborn as sns\n",
    "\n",
    "#root\n",
    "absPath = '/home/angela3/imbalance_pcm_benchmark/'\n",
    "sys.path.insert(0, absPath)\n",
    "\n",
    "from src.Target import Target\n",
    "from src.imbalance_functions import computing_random_baseline\n",
    "\n",
    "np.random.seed(8)\n",
    "random.seed(8)"
   ]
  },
  {
   "cell_type": "code",
   "execution_count": 2,
   "metadata": {},
   "outputs": [],
   "source": [
    "protein_type = \"GPCRs\" #\"kinases\"\n",
    "nfolds = 10"
   ]
  },
  {
   "cell_type": "code",
   "execution_count": 3,
   "metadata": {},
   "outputs": [],
   "source": [
    "#Loading list of unique proteins \n",
    "with open(\"\".join((absPath, \"data/\", protein_type, \"/\", protein_type, \"_prots.pickle\")), 'rb') as handle:\n",
    "    unique_prots = pickle.load(handle)"
   ]
  },
  {
   "cell_type": "code",
   "execution_count": 4,
   "metadata": {},
   "outputs": [],
   "source": [
    "strategies = [\"resampling_before_clustering\", \"no_resampling\", \"resampling_after_clustering\", \"semi_resampling\"]\n",
    "\n",
    "ratios_df_completo = pd.read_csv(\"\".join((absPath, \"data/\", protein_type, \"/ratios_df_complete.csv\")))"
   ]
  },
  {
   "cell_type": "code",
   "execution_count": 5,
   "metadata": {},
   "outputs": [],
   "source": [
    "ratios_df_completo.drop([\"Unnamed: 0\", \"Unnamed: 0.1\"], axis=1, inplace=True)"
   ]
  },
  {
   "cell_type": "code",
   "execution_count": 6,
   "metadata": {},
   "outputs": [
    {
     "name": "stdout",
     "output_type": "stream",
     "text": [
      "<class 'pandas.core.frame.DataFrame'>\n",
      "RangeIndex: 10772 entries, 0 to 10771\n",
      "Data columns (total 16 columns):\n",
      " #   Column                   Non-Null Count  Dtype  \n",
      "---  ------                   --------------  -----  \n",
      " 0   DeepAffinity Protein ID  10772 non-null  object \n",
      " 1   ratio_training           9902 non-null   float64\n",
      " 2   ratio_test               10772 non-null  float64\n",
      " 3   ratio_test_predicted     10772 non-null  float64\n",
      " 4   acc                      10772 non-null  float64\n",
      " 5   auroc                    8157 non-null   float64\n",
      " 6   f1                       10772 non-null  float64\n",
      " 7   balanced_acc             10772 non-null  float64\n",
      " 8   mcc                      10772 non-null  float64\n",
      " 9   strategy                 10772 non-null  object \n",
      " 10  fold                     10772 non-null  int64  \n",
      " 11  Sequence                 10772 non-null  object \n",
      " 12  family                   10772 non-null  object \n",
      " 13  Uniprot ID               10772 non-null  object \n",
      " 14  n_interactions           10772 non-null  int64  \n",
      " 15  len_seq                  10772 non-null  int64  \n",
      "dtypes: float64(8), int64(3), object(5)\n",
      "memory usage: 1.3+ MB\n"
     ]
    }
   ],
   "source": [
    "ratios_df_completo.info()"
   ]
  },
  {
   "cell_type": "code",
   "execution_count": 7,
   "metadata": {},
   "outputs": [
    {
     "data": {
      "text/html": [
       "<div>\n",
       "<style scoped>\n",
       "    .dataframe tbody tr th:only-of-type {\n",
       "        vertical-align: middle;\n",
       "    }\n",
       "\n",
       "    .dataframe tbody tr th {\n",
       "        vertical-align: top;\n",
       "    }\n",
       "\n",
       "    .dataframe thead th {\n",
       "        text-align: right;\n",
       "    }\n",
       "</style>\n",
       "<table border=\"1\" class=\"dataframe\">\n",
       "  <thead>\n",
       "    <tr style=\"text-align: right;\">\n",
       "      <th></th>\n",
       "      <th>DeepAffinity Protein ID</th>\n",
       "      <th>ratio_training</th>\n",
       "      <th>ratio_test</th>\n",
       "      <th>ratio_test_predicted</th>\n",
       "      <th>acc</th>\n",
       "      <th>auroc</th>\n",
       "      <th>f1</th>\n",
       "      <th>balanced_acc</th>\n",
       "      <th>mcc</th>\n",
       "      <th>strategy</th>\n",
       "      <th>fold</th>\n",
       "      <th>Sequence</th>\n",
       "      <th>family</th>\n",
       "      <th>Uniprot ID</th>\n",
       "      <th>n_interactions</th>\n",
       "      <th>len_seq</th>\n",
       "    </tr>\n",
       "  </thead>\n",
       "  <tbody>\n",
       "    <tr>\n",
       "      <th>0</th>\n",
       "      <td>UYMO</td>\n",
       "      <td>0.477448</td>\n",
       "      <td>0.620536</td>\n",
       "      <td>0.575893</td>\n",
       "      <td>0.776786</td>\n",
       "      <td>0.859035</td>\n",
       "      <td>0.813433</td>\n",
       "      <td>0.774439</td>\n",
       "      <td>0.538935</td>\n",
       "      <td>resampling_before_clustering</td>\n",
       "      <td>0</td>\n",
       "      <td>MWNATPSEEPGFNLTLADLDWDASPGNDSLGDELLQLFPAPLLAGV...</td>\n",
       "      <td>GPCR</td>\n",
       "      <td>Q92847</td>\n",
       "      <td>1004</td>\n",
       "      <td>366</td>\n",
       "    </tr>\n",
       "    <tr>\n",
       "      <th>1</th>\n",
       "      <td>0BJE</td>\n",
       "      <td>0.487952</td>\n",
       "      <td>0.604651</td>\n",
       "      <td>0.627907</td>\n",
       "      <td>0.790698</td>\n",
       "      <td>0.841629</td>\n",
       "      <td>0.830189</td>\n",
       "      <td>0.776018</td>\n",
       "      <td>0.558389</td>\n",
       "      <td>resampling_before_clustering</td>\n",
       "      <td>0</td>\n",
       "      <td>MTPNSTGEVPSPIPKGALGLSLALASLIITANLLLALGIAWDRRLR...</td>\n",
       "      <td>GPCR</td>\n",
       "      <td>Q8TDU6</td>\n",
       "      <td>423</td>\n",
       "      <td>330</td>\n",
       "    </tr>\n",
       "    <tr>\n",
       "      <th>2</th>\n",
       "      <td>78TA</td>\n",
       "      <td>0.503030</td>\n",
       "      <td>0.500000</td>\n",
       "      <td>0.550000</td>\n",
       "      <td>0.950000</td>\n",
       "      <td>0.910000</td>\n",
       "      <td>0.952381</td>\n",
       "      <td>0.950000</td>\n",
       "      <td>0.904534</td>\n",
       "      <td>resampling_before_clustering</td>\n",
       "      <td>0</td>\n",
       "      <td>MMTPNSTELSAIPMGVLGLSLALASLIVIANLLLALGIALDRHLRS...</td>\n",
       "      <td>GPCR</td>\n",
       "      <td>Q80SS6</td>\n",
       "      <td>138</td>\n",
       "      <td>329</td>\n",
       "    </tr>\n",
       "    <tr>\n",
       "      <th>3</th>\n",
       "      <td>RJYX</td>\n",
       "      <td>0.435644</td>\n",
       "      <td>0.444444</td>\n",
       "      <td>0.777778</td>\n",
       "      <td>0.444444</td>\n",
       "      <td>0.350000</td>\n",
       "      <td>0.545455</td>\n",
       "      <td>0.475000</td>\n",
       "      <td>-0.059761</td>\n",
       "      <td>resampling_before_clustering</td>\n",
       "      <td>0</td>\n",
       "      <td>METNFSTPLNEYEEVSYESAGYTVLRILPLVVLGVTFVLGVLGNGL...</td>\n",
       "      <td>GPCR</td>\n",
       "      <td>P25090</td>\n",
       "      <td>112</td>\n",
       "      <td>351</td>\n",
       "    </tr>\n",
       "    <tr>\n",
       "      <th>4</th>\n",
       "      <td>95E2</td>\n",
       "      <td>0.525958</td>\n",
       "      <td>0.307190</td>\n",
       "      <td>0.385621</td>\n",
       "      <td>0.758170</td>\n",
       "      <td>0.856534</td>\n",
       "      <td>0.650943</td>\n",
       "      <td>0.751455</td>\n",
       "      <td>0.476653</td>\n",
       "      <td>resampling_before_clustering</td>\n",
       "      <td>0</td>\n",
       "      <td>MGPTSVPLVKAHRSSVSDYVNYDIIVRHYNYTGKLNISADKENSIK...</td>\n",
       "      <td>GPCR</td>\n",
       "      <td>P21453</td>\n",
       "      <td>2471</td>\n",
       "      <td>382</td>\n",
       "    </tr>\n",
       "  </tbody>\n",
       "</table>\n",
       "</div>"
      ],
      "text/plain": [
       "  DeepAffinity Protein ID  ratio_training  ratio_test  ratio_test_predicted  \\\n",
       "0                    UYMO        0.477448    0.620536              0.575893   \n",
       "1                    0BJE        0.487952    0.604651              0.627907   \n",
       "2                    78TA        0.503030    0.500000              0.550000   \n",
       "3                    RJYX        0.435644    0.444444              0.777778   \n",
       "4                    95E2        0.525958    0.307190              0.385621   \n",
       "\n",
       "        acc     auroc        f1  balanced_acc       mcc  \\\n",
       "0  0.776786  0.859035  0.813433      0.774439  0.538935   \n",
       "1  0.790698  0.841629  0.830189      0.776018  0.558389   \n",
       "2  0.950000  0.910000  0.952381      0.950000  0.904534   \n",
       "3  0.444444  0.350000  0.545455      0.475000 -0.059761   \n",
       "4  0.758170  0.856534  0.650943      0.751455  0.476653   \n",
       "\n",
       "                       strategy  fold  \\\n",
       "0  resampling_before_clustering     0   \n",
       "1  resampling_before_clustering     0   \n",
       "2  resampling_before_clustering     0   \n",
       "3  resampling_before_clustering     0   \n",
       "4  resampling_before_clustering     0   \n",
       "\n",
       "                                            Sequence family Uniprot ID  \\\n",
       "0  MWNATPSEEPGFNLTLADLDWDASPGNDSLGDELLQLFPAPLLAGV...   GPCR     Q92847   \n",
       "1  MTPNSTGEVPSPIPKGALGLSLALASLIITANLLLALGIAWDRRLR...   GPCR     Q8TDU6   \n",
       "2  MMTPNSTELSAIPMGVLGLSLALASLIVIANLLLALGIALDRHLRS...   GPCR     Q80SS6   \n",
       "3  METNFSTPLNEYEEVSYESAGYTVLRILPLVVLGVTFVLGVLGNGL...   GPCR     P25090   \n",
       "4  MGPTSVPLVKAHRSSVSDYVNYDIIVRHYNYTGKLNISADKENSIK...   GPCR     P21453   \n",
       "\n",
       "   n_interactions  len_seq  \n",
       "0            1004      366  \n",
       "1             423      330  \n",
       "2             138      329  \n",
       "3             112      351  \n",
       "4            2471      382  "
      ]
     },
     "execution_count": 7,
     "metadata": {},
     "output_type": "execute_result"
    }
   ],
   "source": [
    "ratios_df_completo.head()"
   ]
  },
  {
   "cell_type": "markdown",
   "metadata": {},
   "source": [
    "we should not use n_interactions because that the TOTAL NUMBER of interactions, but we are interested only in test!\n",
    "we have to load te corresponding prediction on test file, check the shape and take this number as n_interactions"
   ]
  },
  {
   "cell_type": "code",
   "execution_count": 8,
   "metadata": {},
   "outputs": [],
   "source": [
    "#TESTING\n",
    "\n",
    "#strategy = \"no_resampling\"\n",
    "#fold = 0\n",
    "#pred_test_path = \"\".join((absPath, \"data/\", protein_type, \"/\", strategy, \"/predictions/\", str(fold), \"/test.csv\"))\n",
    "#predtest_loaded = pd.read_csv(pred_test_path, index_col=False)\n",
    "#predtest_loaded"
   ]
  },
  {
   "cell_type": "code",
   "execution_count": 9,
   "metadata": {},
   "outputs": [],
   "source": [
    "#predtest_loaded.comp_ID.values.tolist()"
   ]
  },
  {
   "cell_type": "code",
   "execution_count": null,
   "metadata": {},
   "outputs": [
    {
     "name": "stderr",
     "output_type": "stream",
     "text": [
      "/home/angela3/imbalance_pcm_benchmark/src/imbalance_functions.py:228: RuntimeWarning: Mean of empty slice.\n",
      "  ratio_training = subdf.loc[subdf[\"DeepAffinity Protein ID\"]==prot, \"ratio_training\"].dropna().values.mean()\n",
      "/home/angela3/venv/lib/python3.6/site-packages/numpy/core/_methods.py:161: RuntimeWarning: invalid value encountered in double_scalars\n",
      "  ret = ret.dtype.type(ret / rcount)\n"
     ]
    }
   ],
   "source": [
    "list_rdm = []\n",
    "for strategy in strategies:\n",
    "    for fold in range(nfolds):\n",
    "        for prot in unique_prots:\n",
    "            dict_prot = {}\n",
    "            rdm_comps = computing_random_baseline(ratios_df_completo, strategy, prot, fold, protein_type)\n",
    "            dict_prot[\"prot\"] = prot\n",
    "            dict_prot[\"strategy\"] = strategy\n",
    "            dict_prot[\"random_baseline\"] = rdm_comps \n",
    "            dict_prot[\"fold\"] = fold\n",
    "            #dict_prot[\"comps\"] = comps\n",
    "            dict_prot[\"idx\"] = range(len(rdm_comps))\n",
    "            list_rdm.append(dict_prot)"
   ]
  },
  {
   "cell_type": "code",
   "execution_count": null,
   "metadata": {},
   "outputs": [],
   "source": [
    "random_baseline_df = pd.DataFrame(list_rdm)"
   ]
  },
  {
   "cell_type": "code",
   "execution_count": null,
   "metadata": {},
   "outputs": [],
   "source": [
    "# list_rdm[5]"
   ]
  },
  {
   "cell_type": "code",
   "execution_count": null,
   "metadata": {},
   "outputs": [],
   "source": [
    "random_baseline_df.info()"
   ]
  },
  {
   "cell_type": "code",
   "execution_count": null,
   "metadata": {},
   "outputs": [],
   "source": [
    "random_baseline_df.head()"
   ]
  },
  {
   "cell_type": "code",
   "execution_count": null,
   "metadata": {},
   "outputs": [],
   "source": [
    "list_cols = [\"random_baseline\", \"idx\"]\n",
    "other_cols = list(set(random_baseline_df.columns) - set(list_cols))\n",
    "exploded = [random_baseline_df[col].explode() for col in list_cols]\n",
    "exploded_rdm_bsl = pd.DataFrame(dict(zip(list_cols, exploded)))\n",
    "exploded_rdm_bsl = random_baseline_df[other_cols].merge(exploded_rdm_bsl, how=\"right\", \n",
    "                                                        left_index=True, right_index=True)\n",
    "exploded_rdm_bsl"
   ]
  },
  {
   "cell_type": "code",
   "execution_count": null,
   "metadata": {},
   "outputs": [],
   "source": [
    "exploded_rdm_bsl.head()"
   ]
  },
  {
   "cell_type": "code",
   "execution_count": null,
   "metadata": {},
   "outputs": [],
   "source": [
    "exploded_rdm_bsl.info()"
   ]
  },
  {
   "cell_type": "code",
   "execution_count": null,
   "metadata": {},
   "outputs": [],
   "source": [
    "exploded_rdm_bsl.to_csv(\"\".join((absPath, \"/data/\", protein_type, \"/random_baseline.csv\")))"
   ]
  },
  {
   "cell_type": "code",
   "execution_count": null,
   "metadata": {},
   "outputs": [],
   "source": []
  }
 ],
 "metadata": {
  "kernelspec": {
   "display_name": "Python 3",
   "language": "python",
   "name": "python3"
  },
  "language_info": {
   "codemirror_mode": {
    "name": "ipython",
    "version": 3
   },
   "file_extension": ".py",
   "mimetype": "text/x-python",
   "name": "python",
   "nbconvert_exporter": "python",
   "pygments_lexer": "ipython3",
   "version": "3.6.9"
  }
 },
 "nbformat": 4,
 "nbformat_minor": 4
}
