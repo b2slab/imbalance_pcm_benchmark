{
 "cells": [
  {
   "cell_type": "code",
   "execution_count": 1,
   "metadata": {},
   "outputs": [],
   "source": [
    "from __future__ import division, absolute_import\n",
    "\n",
    "import sys\n",
    "import numpy as np\n",
    "import random\n",
    "import pandas as pd\n",
    "\n",
    "#root\n",
    "absPath = '/home/angela3/imbalance_pcm_benchmark/'\n",
    "sys.path.insert(0, absPath)\n",
    "\n",
    "np.random.seed(8)\n",
    "random.seed(8)"
   ]
  },
  {
   "cell_type": "code",
   "execution_count": 2,
   "metadata": {},
   "outputs": [],
   "source": [
    "protein_type = \"GPCRs\" #\"kinases\""
   ]
  },
  {
   "cell_type": "code",
   "execution_count": 3,
   "metadata": {},
   "outputs": [
    {
     "name": "stdout",
     "output_type": "stream",
     "text": [
      "<class 'pandas.core.frame.DataFrame'>\n",
      "RangeIndex: 200523 entries, 0 to 200522\n",
      "Data columns (total 10 columns):\n",
      " #   Column                    Non-Null Count   Dtype  \n",
      "---  ------                    --------------   -----  \n",
      " 0   Unnamed: 0                200523 non-null  int64  \n",
      " 1   DeepAffinity Protein ID   200523 non-null  object \n",
      " 2   Uniprot ID                200523 non-null  object \n",
      " 3   DeepAffinity Compound ID  200523 non-null  object \n",
      " 4   CID                       200523 non-null  int64  \n",
      " 5   activity                  200523 non-null  float64\n",
      " 6   label                     200523 non-null  float64\n",
      " 7   Canonical SMILE           200523 non-null  object \n",
      " 8   Sequence                  200523 non-null  object \n",
      " 9   family                    200523 non-null  object \n",
      "dtypes: float64(2), int64(2), object(6)\n",
      "memory usage: 15.3+ MB\n",
      "None\n",
      "   Unnamed: 0 DeepAffinity Protein ID Uniprot ID DeepAffinity Compound ID  \\\n",
      "0          32                    UYMO     Q92847                     4vb9   \n",
      "1          33                    UYMO     Q92847                     samf   \n",
      "2          34                    UYMO     Q92847                     fckm   \n",
      "3          35                    UYMO     Q92847                     e68w   \n",
      "4          36                    UYMO     Q92847                     ob5k   \n",
      "\n",
      "        CID  activity  label  \\\n",
      "0  11154001  7.251812    1.0   \n",
      "1  11441554  8.154902    1.0   \n",
      "2  11442040  7.055517    1.0   \n",
      "3  11248021  7.468521    1.0   \n",
      "4  11351838  8.000000    1.0   \n",
      "\n",
      "                                     Canonical SMILE  \\\n",
      "0  CC(C)NC(=O)NC1=CC=C(C=C1)C2=C(N=C(N=C2N)N)COCC...   \n",
      "1  CC(C)(C)NC(=O)NC1=CC=C(C=C1)C2=C(N=C(N=C2N)N)C...   \n",
      "2  C1=CC=C(C=C1)COCC2=C(C(=NC(=N2)N)N)C3=CC=C(C=C...   \n",
      "3  C1=CC=C(C=C1)CNC(=O)NC2=CC=C(C=C2)C3=C(N=C(N=C...   \n",
      "4  CC(C1=CC=CC=C1)NC(=O)NC2=CC=C(C=C2)C3=C(N=C(N=...   \n",
      "\n",
      "                                            Sequence family  \n",
      "0  MWNATPSEEPGFNLTLADLDWDASPGNDSLGDELLQLFPAPLLAGV...   GPCR  \n",
      "1  MWNATPSEEPGFNLTLADLDWDASPGNDSLGDELLQLFPAPLLAGV...   GPCR  \n",
      "2  MWNATPSEEPGFNLTLADLDWDASPGNDSLGDELLQLFPAPLLAGV...   GPCR  \n",
      "3  MWNATPSEEPGFNLTLADLDWDASPGNDSLGDELLQLFPAPLLAGV...   GPCR  \n",
      "4  MWNATPSEEPGFNLTLADLDWDASPGNDSLGDELLQLFPAPLLAGV...   GPCR  \n"
     ]
    }
   ],
   "source": [
    "activity_file = \"\".join((absPath, \"data/\", protein_type, \"_activity.csv\"))\n",
    "activity_df = pd.read_csv(activity_file, sep=\"\\t\")\n",
    "print(activity_df.info())\n",
    "print(activity_df.head())"
   ]
  },
  {
   "cell_type": "code",
   "execution_count": 4,
   "metadata": {},
   "outputs": [
    {
     "name": "stdout",
     "output_type": "stream",
     "text": [
      "<class 'pandas.core.frame.DataFrame'>\n",
      "Int64Index: 498 entries, 0 to 200522\n",
      "Data columns (total 4 columns):\n",
      " #   Column                   Non-Null Count  Dtype \n",
      "---  ------                   --------------  ----- \n",
      " 0   DeepAffinity Protein ID  498 non-null    object\n",
      " 1   Sequence                 498 non-null    object\n",
      " 2   family                   498 non-null    object\n",
      " 3   Uniprot ID               498 non-null    object\n",
      "dtypes: object(4)\n",
      "memory usage: 19.5+ KB\n"
     ]
    },
    {
     "name": "stderr",
     "output_type": "stream",
     "text": [
      "/home/angela3/venv/lib/python3.6/site-packages/ipykernel_launcher.py:2: SettingWithCopyWarning: \n",
      "A value is trying to be set on a copy of a slice from a DataFrame\n",
      "\n",
      "See the caveats in the documentation: https://pandas.pydata.org/pandas-docs/stable/user_guide/indexing.html#returning-a-view-versus-a-copy\n",
      "  \n"
     ]
    }
   ],
   "source": [
    "prots_df = activity_df[[\"DeepAffinity Protein ID\", \"Sequence\", \"family\",\"Uniprot ID\"]]\n",
    "prots_df.drop_duplicates(inplace=True)\n",
    "prots_df.info()"
   ]
  },
  {
   "cell_type": "code",
   "execution_count": 5,
   "metadata": {},
   "outputs": [],
   "source": [
    "unique_prots = np.unique(prots_df[\"DeepAffinity Protein ID\"].values)"
   ]
  },
  {
   "cell_type": "code",
   "execution_count": 6,
   "metadata": {},
   "outputs": [],
   "source": [
    "list_n_interactions = []\n",
    "for prot in unique_prots:\n",
    "    dict_prot = {}\n",
    "    dict_prot[\"DeepAffinity Protein ID\"] = prot\n",
    "    sub_df = activity_df[activity_df[\"DeepAffinity Protein ID\"] == prot]\n",
    "    dict_prot[\"n_interactions\"] = sub_df.shape[0]\n",
    "    list_n_interactions.append(dict_prot)"
   ]
  },
  {
   "cell_type": "code",
   "execution_count": 7,
   "metadata": {},
   "outputs": [],
   "source": [
    "n_interactions_df = pd.DataFrame(list_n_interactions)"
   ]
  },
  {
   "cell_type": "code",
   "execution_count": 8,
   "metadata": {},
   "outputs": [
    {
     "name": "stdout",
     "output_type": "stream",
     "text": [
      "<class 'pandas.core.frame.DataFrame'>\n",
      "Int64Index: 498 entries, 0 to 497\n",
      "Data columns (total 5 columns):\n",
      " #   Column                   Non-Null Count  Dtype \n",
      "---  ------                   --------------  ----- \n",
      " 0   DeepAffinity Protein ID  498 non-null    object\n",
      " 1   Sequence                 498 non-null    object\n",
      " 2   family                   498 non-null    object\n",
      " 3   Uniprot ID               498 non-null    object\n",
      " 4   n_interactions           498 non-null    int64 \n",
      "dtypes: int64(1), object(4)\n",
      "memory usage: 23.3+ KB\n"
     ]
    }
   ],
   "source": [
    "prots_df_completed = pd.merge(prots_df, n_interactions_df, \"left\", on= \"DeepAffinity Protein ID\")\n",
    "prots_df_completed.info()"
   ]
  },
  {
   "cell_type": "code",
   "execution_count": 9,
   "metadata": {},
   "outputs": [],
   "source": [
    "prots_df_completed.to_csv(\"\".join((absPath, \"data/\", protein_type, \"/prots_df.csv\")))"
   ]
  },
  {
   "cell_type": "code",
   "execution_count": null,
   "metadata": {},
   "outputs": [],
   "source": []
  }
 ],
 "metadata": {
  "kernelspec": {
   "display_name": "Python 3",
   "language": "python",
   "name": "python3"
  },
  "language_info": {
   "codemirror_mode": {
    "name": "ipython",
    "version": 3
   },
   "file_extension": ".py",
   "mimetype": "text/x-python",
   "name": "python",
   "nbconvert_exporter": "python",
   "pygments_lexer": "ipython3",
   "version": "3.6.9"
  }
 },
 "nbformat": 4,
 "nbformat_minor": 4
}
